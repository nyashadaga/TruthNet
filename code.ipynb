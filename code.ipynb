{
 "cells": [
  {
   "cell_type": "markdown",
   "metadata": {},
   "source": [
    "Importing Required Libraries"
   ]
  },
  {
   "cell_type": "code",
   "execution_count": 2,
   "metadata": {},
   "outputs": [
    {
     "name": "stdout",
     "output_type": "stream",
     "text": [
      "Defaulting to user installation because normal site-packages is not writeable\n",
      "Requirement already satisfied: pandas in c:\\users\\nyash\\appdata\\roaming\\python\\python312\\site-packages (2.2.0)\n",
      "Requirement already satisfied: numpy in c:\\users\\nyash\\appdata\\roaming\\python\\python312\\site-packages (1.26.4)\n",
      "Requirement already satisfied: matplotlib in c:\\users\\nyash\\appdata\\roaming\\python\\python312\\site-packages (3.8.3)\n",
      "Requirement already satisfied: seaborn in c:\\users\\nyash\\appdata\\roaming\\python\\python312\\site-packages (0.13.2)\n",
      "Requirement already satisfied: nltk in c:\\users\\nyash\\appdata\\roaming\\python\\python312\\site-packages (3.8.1)\n",
      "Requirement already satisfied: scikit-learn in c:\\users\\nyash\\appdata\\roaming\\python\\python312\\site-packages (1.4.0)\n",
      "Requirement already satisfied: wordcloud in c:\\users\\nyash\\appdata\\roaming\\python\\python312\\site-packages (1.9.3)\n",
      "Requirement already satisfied: textblob in c:\\users\\nyash\\appdata\\roaming\\python\\python312\\site-packages (0.17.1)\n",
      "Requirement already satisfied: tqdm in c:\\users\\nyash\\appdata\\roaming\\python\\python312\\site-packages (4.66.2)\n",
      "Requirement already satisfied: python-dateutil>=2.8.2 in c:\\users\\nyash\\appdata\\roaming\\python\\python312\\site-packages (from pandas) (2.9.0.post0)\n",
      "Requirement already satisfied: pytz>=2020.1 in c:\\users\\nyash\\appdata\\roaming\\python\\python312\\site-packages (from pandas) (2024.2)\n",
      "Requirement already satisfied: tzdata>=2022.7 in c:\\users\\nyash\\appdata\\roaming\\python\\python312\\site-packages (from pandas) (2024.2)\n",
      "Requirement already satisfied: contourpy>=1.0.1 in c:\\users\\nyash\\appdata\\roaming\\python\\python312\\site-packages (from matplotlib) (1.3.1)\n",
      "Requirement already satisfied: cycler>=0.10 in c:\\users\\nyash\\appdata\\roaming\\python\\python312\\site-packages (from matplotlib) (0.12.1)\n",
      "Requirement already satisfied: fonttools>=4.22.0 in c:\\users\\nyash\\appdata\\roaming\\python\\python312\\site-packages (from matplotlib) (4.57.0)\n",
      "Requirement already satisfied: kiwisolver>=1.3.1 in c:\\users\\nyash\\appdata\\roaming\\python\\python312\\site-packages (from matplotlib) (1.4.8)\n",
      "Requirement already satisfied: packaging>=20.0 in c:\\users\\nyash\\appdata\\roaming\\python\\python312\\site-packages (from matplotlib) (24.2)\n",
      "Requirement already satisfied: pillow>=8 in c:\\users\\nyash\\appdata\\roaming\\python\\python312\\site-packages (from matplotlib) (11.0.0)\n",
      "Requirement already satisfied: pyparsing>=2.3.1 in c:\\users\\nyash\\appdata\\roaming\\python\\python312\\site-packages (from matplotlib) (3.2.3)\n",
      "Requirement already satisfied: click in c:\\users\\nyash\\appdata\\roaming\\python\\python312\\site-packages (from nltk) (8.1.7)\n",
      "Requirement already satisfied: joblib in c:\\users\\nyash\\appdata\\roaming\\python\\python312\\site-packages (from nltk) (1.4.2)\n",
      "Requirement already satisfied: regex>=2021.8.3 in c:\\users\\nyash\\appdata\\roaming\\python\\python312\\site-packages (from nltk) (2024.11.6)\n",
      "Requirement already satisfied: scipy>=1.6.0 in c:\\users\\nyash\\appdata\\roaming\\python\\python312\\site-packages (from scikit-learn) (1.15.2)\n",
      "Requirement already satisfied: threadpoolctl>=2.0.0 in c:\\users\\nyash\\appdata\\roaming\\python\\python312\\site-packages (from scikit-learn) (3.6.0)\n",
      "Requirement already satisfied: colorama in c:\\users\\nyash\\appdata\\roaming\\python\\python312\\site-packages (from tqdm) (0.4.6)\n",
      "Requirement already satisfied: six>=1.5 in c:\\users\\nyash\\appdata\\roaming\\python\\python312\\site-packages (from python-dateutil>=2.8.2->pandas) (1.16.0)\n",
      "Defaulting to user installation because normal site-packages is not writeable\n",
      "Requirement already satisfied: tensorflow-cpu in c:\\users\\nyash\\appdata\\roaming\\python\\python312\\site-packages (2.19.0)\n",
      "Requirement already satisfied: absl-py>=1.0.0 in c:\\users\\nyash\\appdata\\roaming\\python\\python312\\site-packages (from tensorflow-cpu) (2.2.2)\n",
      "Requirement already satisfied: astunparse>=1.6.0 in c:\\users\\nyash\\appdata\\roaming\\python\\python312\\site-packages (from tensorflow-cpu) (1.6.3)\n",
      "Requirement already satisfied: flatbuffers>=24.3.25 in c:\\users\\nyash\\appdata\\roaming\\python\\python312\\site-packages (from tensorflow-cpu) (25.2.10)\n",
      "Requirement already satisfied: gast!=0.5.0,!=0.5.1,!=0.5.2,>=0.2.1 in c:\\users\\nyash\\appdata\\roaming\\python\\python312\\site-packages (from tensorflow-cpu) (0.6.0)\n",
      "Requirement already satisfied: google-pasta>=0.1.1 in c:\\users\\nyash\\appdata\\roaming\\python\\python312\\site-packages (from tensorflow-cpu) (0.2.0)\n",
      "Requirement already satisfied: libclang>=13.0.0 in c:\\users\\nyash\\appdata\\roaming\\python\\python312\\site-packages (from tensorflow-cpu) (18.1.1)\n",
      "Requirement already satisfied: opt-einsum>=2.3.2 in c:\\users\\nyash\\appdata\\roaming\\python\\python312\\site-packages (from tensorflow-cpu) (3.4.0)\n",
      "Requirement already satisfied: packaging in c:\\users\\nyash\\appdata\\roaming\\python\\python312\\site-packages (from tensorflow-cpu) (24.2)\n",
      "Requirement already satisfied: protobuf!=4.21.0,!=4.21.1,!=4.21.2,!=4.21.3,!=4.21.4,!=4.21.5,<6.0.0dev,>=3.20.3 in c:\\users\\nyash\\appdata\\roaming\\python\\python312\\site-packages (from tensorflow-cpu) (5.28.3)\n",
      "Requirement already satisfied: requests<3,>=2.21.0 in c:\\users\\nyash\\appdata\\roaming\\python\\python312\\site-packages (from tensorflow-cpu) (2.32.3)\n",
      "Requirement already satisfied: setuptools in c:\\users\\nyash\\appdata\\roaming\\python\\python312\\site-packages (from tensorflow-cpu) (77.0.3)\n",
      "Requirement already satisfied: six>=1.12.0 in c:\\users\\nyash\\appdata\\roaming\\python\\python312\\site-packages (from tensorflow-cpu) (1.16.0)\n",
      "Requirement already satisfied: termcolor>=1.1.0 in c:\\users\\nyash\\appdata\\roaming\\python\\python312\\site-packages (from tensorflow-cpu) (3.0.1)\n",
      "Requirement already satisfied: typing-extensions>=3.6.6 in c:\\users\\nyash\\appdata\\roaming\\python\\python312\\site-packages (from tensorflow-cpu) (4.12.2)\n",
      "Requirement already satisfied: wrapt>=1.11.0 in c:\\users\\nyash\\appdata\\roaming\\python\\python312\\site-packages (from tensorflow-cpu) (1.17.2)\n",
      "Requirement already satisfied: grpcio<2.0,>=1.24.3 in c:\\users\\nyash\\appdata\\roaming\\python\\python312\\site-packages (from tensorflow-cpu) (1.72.0rc1)\n",
      "Requirement already satisfied: tensorboard~=2.19.0 in c:\\users\\nyash\\appdata\\roaming\\python\\python312\\site-packages (from tensorflow-cpu) (2.19.0)\n",
      "Requirement already satisfied: keras>=3.5.0 in c:\\users\\nyash\\appdata\\roaming\\python\\python312\\site-packages (from tensorflow-cpu) (3.9.2)\n",
      "Requirement already satisfied: numpy<2.2.0,>=1.26.0 in c:\\users\\nyash\\appdata\\roaming\\python\\python312\\site-packages (from tensorflow-cpu) (1.26.4)\n",
      "Requirement already satisfied: h5py>=3.11.0 in c:\\users\\nyash\\appdata\\roaming\\python\\python312\\site-packages (from tensorflow-cpu) (3.13.0)\n",
      "Requirement already satisfied: ml-dtypes<1.0.0,>=0.5.1 in c:\\users\\nyash\\appdata\\roaming\\python\\python312\\site-packages (from tensorflow-cpu) (0.5.1)\n",
      "Requirement already satisfied: wheel<1.0,>=0.23.0 in c:\\users\\nyash\\appdata\\roaming\\python\\python312\\site-packages (from astunparse>=1.6.0->tensorflow-cpu) (0.45.1)\n",
      "Requirement already satisfied: rich in c:\\users\\nyash\\appdata\\roaming\\python\\python312\\site-packages (from keras>=3.5.0->tensorflow-cpu) (13.9.4)\n",
      "Requirement already satisfied: namex in c:\\users\\nyash\\appdata\\roaming\\python\\python312\\site-packages (from keras>=3.5.0->tensorflow-cpu) (0.0.8)\n",
      "Requirement already satisfied: optree in c:\\users\\nyash\\appdata\\roaming\\python\\python312\\site-packages (from keras>=3.5.0->tensorflow-cpu) (0.15.0)\n",
      "Requirement already satisfied: charset-normalizer<4,>=2 in c:\\users\\nyash\\appdata\\roaming\\python\\python312\\site-packages (from requests<3,>=2.21.0->tensorflow-cpu) (3.4.0)\n",
      "Requirement already satisfied: idna<4,>=2.5 in c:\\users\\nyash\\appdata\\roaming\\python\\python312\\site-packages (from requests<3,>=2.21.0->tensorflow-cpu) (3.10)\n",
      "Requirement already satisfied: urllib3<3,>=1.21.1 in c:\\users\\nyash\\appdata\\roaming\\python\\python312\\site-packages (from requests<3,>=2.21.0->tensorflow-cpu) (2.2.3)\n",
      "Requirement already satisfied: certifi>=2017.4.17 in c:\\users\\nyash\\appdata\\roaming\\python\\python312\\site-packages (from requests<3,>=2.21.0->tensorflow-cpu) (2024.8.30)\n",
      "Requirement already satisfied: markdown>=2.6.8 in c:\\users\\nyash\\appdata\\roaming\\python\\python312\\site-packages (from tensorboard~=2.19.0->tensorflow-cpu) (3.8)\n",
      "Requirement already satisfied: tensorboard-data-server<0.8.0,>=0.7.0 in c:\\users\\nyash\\appdata\\roaming\\python\\python312\\site-packages (from tensorboard~=2.19.0->tensorflow-cpu) (0.7.2)\n",
      "Requirement already satisfied: werkzeug>=1.0.1 in c:\\users\\nyash\\appdata\\roaming\\python\\python312\\site-packages (from tensorboard~=2.19.0->tensorflow-cpu) (3.1.3)\n",
      "Requirement already satisfied: MarkupSafe>=2.1.1 in c:\\users\\nyash\\appdata\\roaming\\python\\python312\\site-packages (from werkzeug>=1.0.1->tensorboard~=2.19.0->tensorflow-cpu) (3.0.2)\n",
      "Requirement already satisfied: markdown-it-py>=2.2.0 in c:\\users\\nyash\\appdata\\roaming\\python\\python312\\site-packages (from rich->keras>=3.5.0->tensorflow-cpu) (3.0.0)\n",
      "Requirement already satisfied: pygments<3.0.0,>=2.13.0 in c:\\users\\nyash\\appdata\\roaming\\python\\python312\\site-packages (from rich->keras>=3.5.0->tensorflow-cpu) (2.18.0)\n",
      "Requirement already satisfied: mdurl~=0.1 in c:\\users\\nyash\\appdata\\roaming\\python\\python312\\site-packages (from markdown-it-py>=2.2.0->rich->keras>=3.5.0->tensorflow-cpu) (0.1.2)\n"
     ]
    }
   ],
   "source": [
    "# Install required libraries\n",
    "!pip install pandas numpy matplotlib seaborn nltk scikit-learn wordcloud textblob tqdm \n",
    "!pip install tensorflow-cpu  "
   ]
  },
  {
   "cell_type": "code",
   "execution_count": 3,
   "metadata": {},
   "outputs": [],
   "source": [
    "# Import basic libraries\n",
    "import numpy as np\n",
    "import pandas as pd\n",
    "import matplotlib.pyplot as plt\n",
    "import seaborn as sns\n",
    "import re\n",
    "import string\n",
    "import pickle\n",
    "import gc \n",
    "from tqdm import tqdm"
   ]
  },
  {
   "cell_type": "code",
   "execution_count": 4,
   "metadata": {},
   "outputs": [],
   "source": [
    "# For preprocessing\n",
    "import nltk\n",
    "nltk.download('punkt', quiet=True)\n",
    "nltk.download('stopwords', quiet=True)\n",
    "from nltk.corpus import stopwords\n",
    "from nltk.tokenize import word_tokenize\n",
    "from sklearn.feature_extraction.text import TfidfVectorizer\n",
    "from sklearn.model_selection import train_test_split"
   ]
  },
  {
   "cell_type": "code",
   "execution_count": 5,
   "metadata": {},
   "outputs": [],
   "source": [
    "# For ML models\n",
    "from sklearn.naive_bayes import MultinomialNB\n",
    "from sklearn.linear_model import LogisticRegression, PassiveAggressiveClassifier\n",
    "from sklearn.neighbors import KNeighborsClassifier\n",
    "from sklearn.metrics import confusion_matrix, accuracy_score, classification_report\n",
    "from sklearn.ensemble import VotingClassifier"
   ]
  },
  {
   "cell_type": "code",
   "execution_count": 6,
   "metadata": {},
   "outputs": [],
   "source": [
    "# For deep learning (with memory optimizations)\n",
    "import tensorflow as tf\n",
    "from tensorflow.keras.preprocessing.text import Tokenizer\n",
    "from tensorflow.keras.preprocessing.sequence import pad_sequences\n",
    "from tensorflow.keras.models import Sequential\n",
    "from tensorflow.keras.layers import Embedding, LSTM, Dense, Dropout, Bidirectional, SpatialDropout1D"
   ]
  },
  {
   "cell_type": "code",
   "execution_count": 7,
   "metadata": {},
   "outputs": [
    {
     "ename": "IndexError",
     "evalue": "list index out of range",
     "output_type": "error",
     "traceback": [
      "\u001b[31m---------------------------------------------------------------------------\u001b[39m",
      "\u001b[31mIndexError\u001b[39m                                Traceback (most recent call last)",
      "\u001b[36mCell\u001b[39m\u001b[36m \u001b[39m\u001b[32mIn[7]\u001b[39m\u001b[32m, line 9\u001b[39m\n\u001b[32m      5\u001b[39m         tf.config.experimental.set_memory_growth(gpu, \u001b[38;5;28;01mTrue\u001b[39;00m)\n\u001b[32m      7\u001b[39m \u001b[38;5;66;03m# Set memory limit for TensorFlow\u001b[39;00m\n\u001b[32m      8\u001b[39m tf.config.set_logical_device_configuration(\n\u001b[32m----> \u001b[39m\u001b[32m9\u001b[39m     \u001b[43mgpus\u001b[49m\u001b[43m[\u001b[49m\u001b[32;43m0\u001b[39;49m\u001b[43m]\u001b[49m,\n\u001b[32m     10\u001b[39m     [tf.config.LogicalDeviceConfiguration(memory_limit=\u001b[32m1024\u001b[39m)])  \u001b[38;5;66;03m# Limit to 1GB\u001b[39;00m\n",
      "\u001b[31mIndexError\u001b[39m: list index out of range"
     ]
    }
   ],
   "source": [
    "# Configure TensorFlow to use memory growth option\n",
    "gpus = tf.config.experimental.list_physical_devices('GPU')\n",
    "if gpus:\n",
    "    for gpu in gpus:\n",
    "        tf.config.experimental.set_memory_growth(gpu, True)\n",
    "\n",
    "# Set memory limit for TensorFlow\n",
    "tf.config.set_logical_device_configuration(\n",
    "    gpus[0],\n",
    "    [tf.config.LogicalDeviceConfiguration(memory_limit=1024)])  # Limit to 1GB"
   ]
  },
  {
   "cell_type": "code",
   "execution_count": 8,
   "metadata": {},
   "outputs": [],
   "source": [
    "# Memory optimization function\n",
    "def optimize_memory():\n",
    "    gc.collect()\n",
    "    tf.keras.backend.clear_session()\n"
   ]
  },
  {
   "cell_type": "code",
   "execution_count": 9,
   "metadata": {},
   "outputs": [
    {
     "name": "stdout",
     "output_type": "stream",
     "text": [
      "Dataset shape: (20800, 4)\n"
     ]
    }
   ],
   "source": [
    "# Load dataset\n",
    "train = pd.read_csv('data/train.csv', index_col='id')\n",
    "print(f\"Dataset shape: {train.shape}\")\n",
    "\n",
    "# Fill missing values\n",
    "train = train.fillna(' ')"
   ]
  },
  {
   "cell_type": "code",
   "execution_count": 10,
   "metadata": {},
   "outputs": [],
   "source": [
    "# Create feature by combining text fields\n",
    "train['total'] = train['title'] + ' ' + train['author'] + train['text']"
   ]
  },
  {
   "cell_type": "code",
   "execution_count": 11,
   "metadata": {},
   "outputs": [
    {
     "name": "stdout",
     "output_type": "stream",
     "text": [
      "WARNING:tensorflow:From C:\\Users\\nyash\\AppData\\Roaming\\Python\\Python312\\site-packages\\keras\\src\\backend\\common\\global_state.py:82: The name tf.reset_default_graph is deprecated. Please use tf.compat.v1.reset_default_graph instead.\n",
      "\n"
     ]
    }
   ],
   "source": [
    "# Drop unnecessary columns to save memory\n",
    "df = train.drop(['title', 'author', 'total'], axis=1)\n",
    "del train  # Free memory\n",
    "optimize_memory()"
   ]
  },
  {
   "cell_type": "code",
   "execution_count": 12,
   "metadata": {},
   "outputs": [
    {
     "name": "stderr",
     "output_type": "stream",
     "text": [
      "<>:4: SyntaxWarning: invalid escape sequence '\\['\n",
      "<>:6: SyntaxWarning: invalid escape sequence '\\S'\n",
      "<>:10: SyntaxWarning: invalid escape sequence '\\w'\n",
      "<>:4: SyntaxWarning: invalid escape sequence '\\['\n",
      "<>:6: SyntaxWarning: invalid escape sequence '\\S'\n",
      "<>:10: SyntaxWarning: invalid escape sequence '\\w'\n",
      "C:\\Users\\nyash\\AppData\\Local\\Temp\\ipykernel_17064\\2332277985.py:4: SyntaxWarning: invalid escape sequence '\\['\n",
      "  text = re.sub(\"\\[.*?\\]\", \"\", text)\n",
      "C:\\Users\\nyash\\AppData\\Local\\Temp\\ipykernel_17064\\2332277985.py:6: SyntaxWarning: invalid escape sequence '\\S'\n",
      "  text = re.sub(\"https?://\\S+|www\\.\\S+\", \"\", text)\n",
      "C:\\Users\\nyash\\AppData\\Local\\Temp\\ipykernel_17064\\2332277985.py:10: SyntaxWarning: invalid escape sequence '\\w'\n",
      "  text = re.sub('\\w*\\d\\w*', '', text)\n"
     ]
    }
   ],
   "source": [
    "# Text preprocessing function\n",
    "def wordopt(text):\n",
    "    text = str(text).lower()\n",
    "    text = re.sub(\"\\[.*?\\]\", \"\", text)\n",
    "    text = re.sub(\"\\\\W\", \" \", text)\n",
    "    text = re.sub(\"https?://\\S+|www\\.\\S+\", \"\", text)\n",
    "    text = re.sub('<.*?>+', '', text)\n",
    "    text = re.sub('[%s]' % re.escape(string.punctuation), '', text)\n",
    "    text = re.sub('\\n', '', text)\n",
    "    text = re.sub('\\w*\\d\\w*', '', text)    \n",
    "    return text"
   ]
  },
  {
   "cell_type": "code",
   "execution_count": null,
   "metadata": {},
   "outputs": [],
   "source": [
    "# Enhanced preprocessing with NLP features\n",
    "def enhanced_preprocessing(text):\n",
    "    # Basic preprocessing\n",
    "    text = wordopt(text)\n",
    "    \n",
    "    # Tokenization\n",
    "    tokens = word_tokenize(text)\n",
    "    \n",
    "    # Remove stopwords\n",
    "    stop_words = set(stopwords.words('english'))\n",
    "    tokens = [word for word in tokens if word not in stop_words]\n",
    "    \n",
    "    # Join tokens back into text\n",
    "    text = ' '.join(tokens)\n",
    "    return text"
   ]
  },
  {
   "cell_type": "code",
   "execution_count": 14,
   "metadata": {},
   "outputs": [
    {
     "name": "stderr",
     "output_type": "stream",
     "text": [
      "Processing text: 100%|███████████████████████████████████████████████████████████████████████████████████████████████████████████████████████████████████████████████████████████████████████████████████████████████████████████████████████████████| 5/5 [01:42<00:00, 20.45s/it]\n"
     ]
    }
   ],
   "source": [
    "# Apply preprocessing (in smaller chunks to save memory)\n",
    "chunk_size = 5000\n",
    "chunks = [df['text'][i:i+chunk_size] for i in range(0, len(df), chunk_size)]\n",
    "processed_chunks = []\n",
    "\n",
    "for chunk in tqdm(chunks, desc=\"Processing text\"):\n",
    "    processed_chunk = chunk.apply(enhanced_preprocessing)\n",
    "    processed_chunks.append(processed_chunk)\n",
    "    \n",
    "df['text'] = pd.concat(processed_chunks)\n",
    "optimize_memory()"
   ]
  },
  {
   "cell_type": "code",
   "execution_count": 15,
   "metadata": {},
   "outputs": [],
   "source": [
    "# Split features and target\n",
    "X = df['text']\n",
    "y = df['label']"
   ]
  },
  {
   "cell_type": "code",
   "execution_count": 16,
   "metadata": {},
   "outputs": [],
   "source": [
    "# Train-test split\n",
    "X_train, X_test, y_train, y_test = train_test_split(X, y, test_size=0.25, random_state=42)"
   ]
  },
  {
   "cell_type": "code",
   "execution_count": 18,
   "metadata": {},
   "outputs": [],
   "source": [
    "# Create TF-IDF features with memory optimization\n",
    "tfidf_vectorizer = TfidfVectorizer(stop_words='english', max_df=0.7, max_features=50000)\n",
    "tfidf_train = tfidf_vectorizer.fit_transform(X_train)\n",
    "tfidf_test = tfidf_vectorizer.transform(X_test)"
   ]
  },
  {
   "cell_type": "code",
   "execution_count": 17,
   "metadata": {},
   "outputs": [],
   "source": [
    "# Memory-efficient implementation for traditional ML models\n",
    "def train_evaluate_model(model, name):\n",
    "    print(f\"\\nTraining {name}...\")\n",
    "    model.fit(tfidf_train, y_train)\n",
    "    \n",
    "    # Predict\n",
    "    pred = model.predict(tfidf_test)\n",
    "    \n",
    "    # Evaluate\n",
    "    cm = confusion_matrix(y_test, pred)\n",
    "    score = accuracy_score(y_test, pred)\n",
    "    \n",
    "    print(f\"{name} Confusion Matrix:\\n{cm}\")\n",
    "    print(f\"{name} Accuracy: {score:.3f}\")\n",
    "    \n",
    "    # Memory cleanup\n",
    "    optimize_memory()\n",
    "    \n",
    "    return model, cm, score"
   ]
  },
  {
   "cell_type": "code",
   "execution_count": 19,
   "metadata": {},
   "outputs": [],
   "source": [
    "# Train traditional ML models\n",
    "models = {\n",
    "    \"MultinomialNB\": MultinomialNB(),\n",
    "    \"LogisticRegression\": LogisticRegression(random_state=0, max_iter=1000),\n",
    "    \"KNeighborsClassifier\": KNeighborsClassifier(n_neighbors=1000, n_jobs=-1),\n",
    "    \"PassiveAggressiveClassifier\": PassiveAggressiveClassifier(random_state=0, max_iter=1000)\n",
    "}\n",
    "\n",
    "results = []\n",
    "confusion_matrices = {}"
   ]
  },
  {
   "cell_type": "code",
   "execution_count": 20,
   "metadata": {},
   "outputs": [
    {
     "name": "stdout",
     "output_type": "stream",
     "text": [
      "\n",
      "Training MultinomialNB...\n",
      "MultinomialNB Confusion Matrix:\n",
      "[[2565   77]\n",
      " [ 455 2103]]\n",
      "MultinomialNB Accuracy: 0.898\n",
      "\n",
      "Training LogisticRegression...\n",
      "LogisticRegression Confusion Matrix:\n",
      "[[2460  182]\n",
      " [ 145 2413]]\n",
      "LogisticRegression Accuracy: 0.937\n",
      "\n",
      "Training KNeighborsClassifier...\n",
      "KNeighborsClassifier Confusion Matrix:\n",
      "[[2334  308]\n",
      " [ 398 2160]]\n",
      "KNeighborsClassifier Accuracy: 0.864\n",
      "\n",
      "Training PassiveAggressiveClassifier...\n",
      "PassiveAggressiveClassifier Confusion Matrix:\n",
      "[[2526  116]\n",
      " [ 117 2441]]\n",
      "PassiveAggressiveClassifier Accuracy: 0.955\n"
     ]
    }
   ],
   "source": [
    "for name, model in models.items():\n",
    "    trained_model, cm, score = train_evaluate_model(model, name)\n",
    "    models[name] = trained_model\n",
    "    confusion_matrices[name] = cm\n",
    "    results.append([name, score])"
   ]
  },
  {
   "cell_type": "code",
   "execution_count": 21,
   "metadata": {},
   "outputs": [],
   "source": [
    "# Implement LSTM with memory optimization\n",
    "# For memory reasons, we'll use a smaller vocabulary and sequence length\n",
    "def create_deep_learning_features():\n",
    "    print(\"\\nCreating deep learning features...\")\n",
    "    \n",
    "    # Initialize tokenizer with a reasonable vocabulary size\n",
    "    max_words = 10000\n",
    "    max_seq_length = 200\n",
    "    \n",
    "    tokenizer = Tokenizer(num_words=max_words)\n",
    "    tokenizer.fit_on_texts(X_train)\n",
    "    \n",
    "    # Convert text to sequences\n",
    "    X_train_seq = tokenizer.texts_to_sequences(X_train)\n",
    "    X_test_seq = tokenizer.texts_to_sequences(X_test)\n",
    "    \n",
    "    # Pad sequences to uniform length\n",
    "    X_train_pad = pad_sequences(X_train_seq, maxlen=max_seq_length)\n",
    "    X_test_pad = pad_sequences(X_test_seq, maxlen=max_seq_length)\n",
    "    \n",
    "    return X_train_pad, X_test_pad, tokenizer, max_words, max_seq_length\n"
   ]
  },
  {
   "cell_type": "code",
   "execution_count": 22,
   "metadata": {},
   "outputs": [
    {
     "name": "stdout",
     "output_type": "stream",
     "text": [
      "\n",
      "Creating deep learning features...\n"
     ]
    }
   ],
   "source": [
    "# Create features for deep learning\n",
    "X_train_pad, X_test_pad, tokenizer, max_words, max_seq_length = create_deep_learning_features()\n",
    "optimize_memory()"
   ]
  },
  {
   "cell_type": "code",
   "execution_count": null,
   "metadata": {},
   "outputs": [],
   "source": [
    "# Define BiLSTM model with memory optimization\n",
    "def create_bilstm_model(max_words, max_seq_length):\n",
    "    print(\"Creating BiLSTM model...\")\n",
    "    model = Sequential()\n",
    "    model.add(Embedding(max_words, 64, input_length=max_seq_length))\n",
    "    model.add(SpatialDropout1D(0.2))  # Helps with regularization and memory\n",
    "    model.add(Bidirectional(LSTM(32, dropout=0.2, recurrent_dropout=0.2)))\n",
    "    model.add(Dense(16, activation='relu'))\n",
    "    model.add(Dropout(0.5))\n",
    "    model.add(Dense(1, activation='sigmoid'))\n",
    "    model.compile(loss='binary_crossentropy', optimizer='adam', metrics=['accuracy'])\n",
    "    return model\n"
   ]
  },
  {
   "cell_type": "code",
   "execution_count": 23,
   "metadata": {},
   "outputs": [
    {
     "ename": "NameError",
     "evalue": "name 'create_bilstm_model' is not defined",
     "output_type": "error",
     "traceback": [
      "\u001b[31m---------------------------------------------------------------------------\u001b[39m",
      "\u001b[31mNameError\u001b[39m                                 Traceback (most recent call last)",
      "\u001b[36mCell\u001b[39m\u001b[36m \u001b[39m\u001b[32mIn[23]\u001b[39m\u001b[32m, line 2\u001b[39m\n\u001b[32m      1\u001b[39m \u001b[38;5;66;03m# Train BiLSTM with small batches to conserve memory\u001b[39;00m\n\u001b[32m----> \u001b[39m\u001b[32m2\u001b[39m bilstm_model = \u001b[43mcreate_bilstm_model\u001b[49m(max_words, max_seq_length)\n\u001b[32m      3\u001b[39m \u001b[38;5;28mprint\u001b[39m(bilstm_model.summary())\n\u001b[32m      5\u001b[39m \u001b[38;5;66;03m# Train with small batch size and early stopping to save memory\u001b[39;00m\n",
      "\u001b[31mNameError\u001b[39m: name 'create_bilstm_model' is not defined"
     ]
    }
   ],
   "source": [
    "# Train BiLSTM with small batches to conserve memory\n",
    "bilstm_model = create_bilstm_model(max_words, max_seq_length)\n",
    "print(bilstm_model.summary())\n",
    "\n",
    "# Train with small batch size and early stopping to save memory\n",
    "from tensorflow.keras.callbacks import EarlyStopping\n",
    "\n",
    "early_stopping = EarlyStopping(\n",
    "    monitor='val_loss',\n",
    "    patience=3,\n",
    "    restore_best_weights=True\n",
    ")\n",
    "\n",
    "history = bilstm_model.fit(\n",
    "    X_train_pad, y_train,\n",
    "    validation_split=0.1,\n",
    "    epochs=10,  # Limit epochs for memory\n",
    "    batch_size=32,  # Small batch size for memory\n",
    "    callbacks=[early_stopping],\n",
    "    verbose=1\n",
    ")\n"
   ]
  },
  {
   "cell_type": "code",
   "execution_count": null,
   "metadata": {},
   "outputs": [
    {
     "name": "stdout",
     "output_type": "stream",
     "text": [
      "\u001b[1m163/163\u001b[0m \u001b[32m━━━━━━━━━━━━━━━━━━━━\u001b[0m\u001b[37m\u001b[0m \u001b[1m5s\u001b[0m 27ms/step\n",
      "\n",
      "BiLSTM Confusion Matrix:\n",
      "[[2433  209]\n",
      " [ 230 2328]]\n",
      "BiLSTM Accuracy: 0.916\n"
     ]
    }
   ],
   "source": [
    "# Evaluate BiLSTM\n",
    "bilstm_pred = bilstm_model.predict(X_test_pad, batch_size=32)\n",
    "bilstm_pred_binary = (bilstm_pred > 0.5).astype(int)\n",
    "bilstm_cm = confusion_matrix(y_test, bilstm_pred_binary)\n",
    "bilstm_score = accuracy_score(y_test, bilstm_pred_binary)\n",
    "\n",
    "print(\"\\nBiLSTM Confusion Matrix:\")\n",
    "print(bilstm_cm)\n",
    "print(f\"BiLSTM Accuracy: {bilstm_score:.3f}\")"
   ]
  },
  {
   "cell_type": "code",
   "execution_count": null,
   "metadata": {},
   "outputs": [],
   "source": [
    "# Add BiLSTM results\n",
    "results.append([\"BiLSTM\", bilstm_score])\n",
    "confusion_matrices[\"BiLSTM\"] = bilstm_cm\n",
    "optimize_memory()"
   ]
  },
  {
   "cell_type": "code",
   "execution_count": null,
   "metadata": {},
   "outputs": [
    {
     "name": "stdout",
     "output_type": "stream",
     "text": [
      "\n",
      "Creating ensemble model...\n",
      "Calibrating PassiveAggressiveClassifier...\n",
      "Ensemble Confusion Matrix:\n",
      "[[2520  122]\n",
      " [ 130 2428]]\n",
      "Ensemble Accuracy: 0.952\n"
     ]
    }
   ],
   "source": [
    "from sklearn.calibration import CalibratedClassifierCV\n",
    "\n",
    "# Create and train ensemble model for improved performance\n",
    "def create_ensemble():\n",
    "    print(\"\\nCreating ensemble model...\")\n",
    "    \n",
    "    # Calibrate PassiveAggressiveClassifier to enable probability prediction\n",
    "    print(\"Calibrating PassiveAggressiveClassifier...\")\n",
    "    calibrated_pa = CalibratedClassifierCV(\n",
    "    estimator=models[\"PassiveAggressiveClassifier\"], \n",
    "    cv=3,\n",
    "    method='sigmoid'\n",
    ")\n",
    "\n",
    "    calibrated_pa.fit(tfidf_train, y_train)\n",
    "    \n",
    "    # Create weighted ensemble with models that support predict_proba\n",
    "    estimators = [\n",
    "        ('pa', calibrated_pa),\n",
    "        ('lr', models[\"LogisticRegression\"])\n",
    "    ]\n",
    "    \n",
    "    # Now ensemble will work with soft voting\n",
    "    ensemble = VotingClassifier(estimators=estimators, voting='soft')\n",
    "    ensemble.fit(tfidf_train, y_train)\n",
    "    \n",
    "    # Make predictions\n",
    "    pred = ensemble.predict(tfidf_test)\n",
    "    cm = confusion_matrix(y_test, pred)\n",
    "    score = accuracy_score(y_test, pred)\n",
    "    \n",
    "    print(\"Ensemble Confusion Matrix:\")\n",
    "    print(cm)\n",
    "    print(f\"Ensemble Accuracy: {score:.3f}\")\n",
    "    \n",
    "    return ensemble, cm, score\n",
    "\n",
    "# Create ensemble\n",
    "ensemble_model, ensemble_cm, ensemble_score = create_ensemble()\n",
    "results.append([\"Ensemble\", ensemble_score])\n",
    "confusion_matrices[\"Ensemble\"] = ensemble_cm\n"
   ]
  },
  {
   "cell_type": "code",
   "execution_count": null,
   "metadata": {},
   "outputs": [
    {
     "name": "stdout",
     "output_type": "stream",
     "text": [
      "\n",
      "Creating hybrid predictions...\n",
      "\u001b[1m1/1\u001b[0m \u001b[32m━━━━━━━━━━━━━━━━━━━━\u001b[0m\u001b[37m\u001b[0m \u001b[1m0s\u001b[0m 201ms/step\n",
      "\n",
      "Sample 1 prediction details:\n",
      "pa_pred: 1\n",
      "ensemble_pred: 1\n",
      "bilstm_pred: 1\n",
      "bilstm_confidence: 0.9875160455703735\n",
      "final_prediction: 1\n",
      "\u001b[1m1/1\u001b[0m \u001b[32m━━━━━━━━━━━━━━━━━━━━\u001b[0m\u001b[37m\u001b[0m \u001b[1m0s\u001b[0m 52ms/step\n",
      "\n",
      "Sample 2 prediction details:\n",
      "pa_pred: 1\n",
      "ensemble_pred: 1\n",
      "bilstm_pred: 1\n",
      "bilstm_confidence: 0.9730890393257141\n",
      "final_prediction: 1\n",
      "\u001b[1m1/1\u001b[0m \u001b[32m━━━━━━━━━━━━━━━━━━━━\u001b[0m\u001b[37m\u001b[0m \u001b[1m0s\u001b[0m 60ms/step\n",
      "\n",
      "Sample 3 prediction details:\n",
      "pa_pred: 0\n",
      "ensemble_pred: 0\n",
      "bilstm_pred: 0\n",
      "bilstm_confidence: 0.017523186281323433\n",
      "final_prediction: 0\n",
      "\u001b[1m1/1\u001b[0m \u001b[32m━━━━━━━━━━━━━━━━━━━━\u001b[0m\u001b[37m\u001b[0m \u001b[1m0s\u001b[0m 74ms/step\n",
      "\n",
      "Sample 4 prediction details:\n",
      "pa_pred: 0\n",
      "ensemble_pred: 0\n",
      "bilstm_pred: 0\n",
      "bilstm_confidence: 0.0025430689565837383\n",
      "final_prediction: 0\n",
      "\u001b[1m1/1\u001b[0m \u001b[32m━━━━━━━━━━━━━━━━━━━━\u001b[0m\u001b[37m\u001b[0m \u001b[1m0s\u001b[0m 103ms/step\n",
      "\n",
      "Sample 5 prediction details:\n",
      "pa_pred: 1\n",
      "ensemble_pred: 1\n",
      "bilstm_pred: 1\n",
      "bilstm_confidence: 0.9522561430931091\n",
      "final_prediction: 1\n"
     ]
    }
   ],
   "source": [
    "# First define the function\n",
    "def hybrid_predict(text_sample):\n",
    "    # Preprocess\n",
    "    processed_text = enhanced_preprocessing(text_sample)\n",
    "    \n",
    "    # Get TF-IDF features\n",
    "    tfidf_features = tfidf_vectorizer.transform([processed_text])\n",
    "    \n",
    "    # Get traditional ML prediction\n",
    "    pa_pred = models[\"PassiveAggressiveClassifier\"].predict(tfidf_features)[0]\n",
    "    ensemble_pred = ensemble_model.predict(tfidf_features)[0]\n",
    "    \n",
    "    # Get deep learning prediction\n",
    "    dl_sequence = tokenizer.texts_to_sequences([processed_text])\n",
    "    dl_padded = pad_sequences(dl_sequence, maxlen=max_seq_length)\n",
    "    bilstm_prob = bilstm_model.predict(dl_padded)[0][0]\n",
    "    bilstm_pred = 1 if bilstm_prob > 0.5 else 0\n",
    "    \n",
    "    # Weighted combination for final prediction\n",
    "    final_prediction = (0.4 * pa_pred + 0.3 * ensemble_pred + 0.3 * bilstm_pred) > 0.5\n",
    "    \n",
    "    return int(final_prediction), {\n",
    "        'pa_pred': pa_pred,\n",
    "        'ensemble_pred': ensemble_pred,\n",
    "        'bilstm_pred': bilstm_pred,\n",
    "        'bilstm_confidence': float(bilstm_prob),\n",
    "        'final_prediction': int(final_prediction)\n",
    "    }\n",
    "\n",
    "# Then call it\n",
    "print(\"\\nCreating hybrid predictions...\")\n",
    "test_samples = X_test.iloc[:5].values\n",
    "for i, sample in enumerate(test_samples):\n",
    "    _, prediction_details = hybrid_predict(sample)\n",
    "    print(f\"\\nSample {i+1} prediction details:\")\n",
    "    for k, v in prediction_details.items():\n",
    "        print(f\"{k}: {v}\")\n"
   ]
  },
  {
   "cell_type": "code",
   "execution_count": null,
   "metadata": {},
   "outputs": [
    {
     "name": "stdout",
     "output_type": "stream",
     "text": [
      "\n",
      "Model Accuracy Comparison:\n",
      "                    Classifier  Accuracy\n",
      "0                MultinomialNB  0.897692\n",
      "1           LogisticRegression  0.937115\n",
      "2         KNeighborsClassifier  0.864231\n",
      "3  PassiveAggressiveClassifier  0.955192\n",
      "4                       BiLSTM  0.915577\n",
      "5                     Ensemble  0.951538\n"
     ]
    }
   ],
   "source": [
    "# Convert results to DataFrame\n",
    "results_df = pd.DataFrame(results, columns=[\"Classifier\", \"Accuracy\"])\n",
    "print(\"\\nModel Accuracy Comparison:\")\n",
    "print(results_df)"
   ]
  },
  {
   "cell_type": "code",
   "execution_count": null,
   "metadata": {},
   "outputs": [
    {
     "data": {
      "image/png": "[encoded data removed]",
      "text/plain": [
       "<Figure size 1000x600 with 1 Axes>"
      ]
     },
     "metadata": {},
     "output_type": "display_data"
    }
   ],
   "source": [
    "# Plot accuracy comparison\n",
    "plt.figure(figsize=(10, 6))\n",
    "sns.barplot(x=\"Classifier\", y=\"Accuracy\", data=results_df)\n",
    "plt.title(\"Model Accuracy Comparison\")\n",
    "plt.ylim(0.8, 1.0)\n",
    "plt.xlabel(\"Classifier\")\n",
    "plt.ylabel(\"Accuracy Score\")\n",
    "plt.xticks(rotation=45)\n",
    "plt.tight_layout()\n",
    "plt.savefig('model_comparison.png')\n",
    "plt.show()"
   ]
  },
  {
   "cell_type": "code",
   "execution_count": null,
   "metadata": {},
   "outputs": [],
   "source": [
    "# Plot confusion matrices\n",
    "def plot_confusion_matrices():\n",
    "    fig, axes = plt.subplots(2, 3, figsize=(8, 5))\n",
    "    axes = axes.flatten()\n",
    "    \n",
    "    models_to_plot = list(confusion_matrices.keys())\n",
    "    \n",
    "    for i, model_name in enumerate(models_to_plot[:6]):  # Plot up to 6 models\n",
    "        if i < len(axes):\n",
    "            sns.heatmap(confusion_matrices[model_name], annot=True, fmt=\"d\", cmap=\"Blues\", ax=axes[i])\n",
    "            axes[i].set_title(model_name)\n",
    "            axes[i].set_xlabel(\"Predicted Labels\")\n",
    "            axes[i].set_ylabel(\"True Labels\")\n",
    "    \n",
    "    plt.tight_layout()\n",
    "    plt.savefig('confusion_matrices.png')\n",
    "    plt.show()"
   ]
  },
  {
   "cell_type": "code",
   "execution_count": null,
   "metadata": {},
   "outputs": [
    {
     "data": {
      "image/png": "[encoded data removed]",
      "text/plain": [
       "<Figure size 800x500 with 12 Axes>"
      ]
     },
     "metadata": {},
     "output_type": "display_data"
    }
   ],
   "source": [
    "# Plot confusion matrices\n",
    "plot_confusion_matrices()"
   ]
  },
  {
   "cell_type": "code",
   "execution_count": null,
   "metadata": {},
   "outputs": [
    {
     "name": "stdout",
     "output_type": "stream",
     "text": [
      "\n",
      "Saving models...\n",
      "Models saved successfully!\n",
      "\n",
      "All processes completed successfully!\n"
     ]
    }
   ],
   "source": [
    "# Save models\n",
    "def save_models():\n",
    "    print(\"\\nSaving models...\")\n",
    "    os.makedirs(\"C:/Users/nyash/FAKE_NEWS/Copy/pickles\", exist_ok=True)\n",
    "    \n",
    "    # Save traditional ML models\n",
    "    pickle.dump(models[\"PassiveAggressiveClassifier\"], open('C:/Users/nyash/FAKE_NEWS/Copy/pickles/PA.pickle', 'wb'))\n",
    "    pickle.dump(tfidf_vectorizer, open('C:/Users/nyash/FAKE_NEWS/Copy/pickles/tfidf_vectorizer.pickle', 'wb'))\n",
    "    \n",
    "    # Save ensemble model\n",
    "    pickle.dump(ensemble_model, open('C:/Users/nyash/FAKE_NEWS/Copy/pickles/ensemble.pickle', 'wb'))\n",
    "    \n",
    "    # Save BiLSTM model with proper .keras extension\n",
    "    bilstm_model.save('C:/Users/nyash/FAKE_NEWS/Copy/pickles/bilstm_model.keras')\n",
    "    \n",
    "    # Save tokenizer\n",
    "    pickle.dump(tokenizer, open('C:/Users/nyash/FAKE_NEWS/Copy/pickles/tokenizer.pickle', 'wb'))\n",
    "    \n",
    "    print(\"Models saved successfully!\")\n",
    "\n",
    "# Execute saving\n",
    "import os\n",
    "save_models()\n",
    "\n",
    "# Final memory cleanup\n",
    "optimize_memory()\n",
    "print(\"\\nAll processes completed successfully!\")\n"
   ]
  }
 ],
 "metadata": {
  "kernelspec": {
   "display_name": "Python 3 (ipykernel)",
   "language": "python",
   "name": "python3"
  },
  "language_info": {
   "codemirror_mode": {
    "name": "ipython",
    "version": 3
   },
   "file_extension": ".py",
   "mimetype": "text/x-python",
   "name": "python",
   "nbconvert_exporter": "python",
   "pygments_lexer": "ipython3",
   "version": "3.12.7"
  },
  "vscode": {
   "interpreter": {
    "hash": "d2c26edeb71c183d00f3ea4492109e50ea7304db1ea63d6baf2e661e67572bed"
   }
  }
 },
 "nbformat": 4,
 "nbformat_minor": 4
}
